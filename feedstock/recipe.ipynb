{
 "cells": [
  {
   "cell_type": "markdown",
   "metadata": {},
   "source": [
    "## Imports\n"
   ]
  },
  {
   "cell_type": "code",
   "execution_count": 1,
   "metadata": {},
   "outputs": [],
   "source": [
    "import distributed\n",
    "import pooch\n",
    "import s3fs\n",
    "import xarray as xr"
   ]
  },
  {
   "cell_type": "code",
   "execution_count": null,
   "metadata": {},
   "outputs": [],
   "source": [
    "client = distributed.Client()\n",
    "client"
   ]
  },
  {
   "cell_type": "markdown",
   "metadata": {},
   "source": [
    "## Shared "
   ]
  },
  {
   "cell_type": "code",
   "execution_count": 4,
   "metadata": {},
   "outputs": [],
   "source": [
    "zenodo_zipped_url = 'https://zenodo.org/records/8293998/files/code_and_data.zip'\n",
    "access_key_id = '<ADD>'\n",
    "secret_access_key = '<ADD>'\n",
    "endpoint_url = 'https://nyu1.osn.mghpcc.org'\n",
    "write_fs = s3fs.S3FileSystem(\n",
    "    key=access_key_id, secret=secret_access_key, client_kwargs={'endpoint_url': endpoint_url}\n",
    ")"
   ]
  },
  {
   "cell_type": "markdown",
   "metadata": {},
   "source": [
    "## Raw Training Data"
   ]
  },
  {
   "cell_type": "code",
   "execution_count": null,
   "metadata": {},
   "outputs": [],
   "source": [
    "training_data_raw_path = 'code_and_data/Data/training_data_raw_time_index_49_149.nc'\n",
    "\n",
    "raw_processor = pooch.Unzip(members=[training_data_raw_path])\n",
    "raw_file = pooch.retrieve(url=zenodo_zipped_url, known_hash=None, processor=raw_processor)\n",
    "\n",
    "raw_ds = xr.open_dataset(raw_file[0])\n",
    "raw_ds = raw_ds.chunk({'indexes': 2500000, 'sigma': 5})\n",
    "raw_ds.to_zarr(\n",
    "    write_fs.get_mapper('leap-pangeo-manual/GOTM/raw_training_data.zarr'),\n",
    "    mode='w',\n",
    "    consolidated=False,\n",
    ")"
   ]
  },
  {
   "cell_type": "markdown",
   "metadata": {},
   "source": [
    "## Training Data SF"
   ]
  },
  {
   "cell_type": "code",
   "execution_count": null,
   "metadata": {},
   "outputs": [],
   "source": [
    "training_data_SF_path = 'code_and_data/Data/training_data_for_SF_hbl_gaps_filled.nc'\n",
    "\n",
    "sf_processor = pooch.Unzip(members=[training_data_SF_path])\n",
    "sf_file = pooch.retrieve(url=zenodo_zipped_url, known_hash=None, processor=sf_processor)\n",
    "\n",
    "sf_ds = xr.open_dataset(sf_file[0], engine='netcdf4')\n",
    "sf_ds = sf_ds.chunk({'indexes': 2500000, 'sigma': 5})\n",
    "sf_ds.to_zarr(write_fs.get_mapper('leap-pangeo-manual/GOTM/sf_training_data.zarr'), mode='w')"
   ]
  }
 ],
 "metadata": {
  "kernelspec": {
   "display_name": "leap",
   "language": "python",
   "name": "python3"
  },
  "language_info": {
   "codemirror_mode": {
    "name": "ipython",
    "version": 3
   },
   "file_extension": ".py",
   "mimetype": "text/x-python",
   "name": "python",
   "nbconvert_exporter": "python",
   "pygments_lexer": "ipython3",
   "version": "3.12.7"
  }
 },
 "nbformat": 4,
 "nbformat_minor": 4
}
