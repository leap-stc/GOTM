{
 "cells": [
  {
   "cell_type": "markdown",
   "metadata": {},
   "source": [
    "## Imports\n"
   ]
  },
  {
   "cell_type": "code",
   "execution_count": null,
   "metadata": {},
   "outputs": [],
   "source": [
    "import fsspec\n",
    "import xarray as xr\n",
    "import s3fs\n",
    "import distributed "
   ]
  },
  {
   "cell_type": "markdown",
   "metadata": {},
   "source": [
    "## Shared "
   ]
  },
  {
   "cell_type": "code",
   "execution_count": null,
   "metadata": {},
   "outputs": [],
   "source": [
    "# Start distributed client \n",
    "\n",
    "client = distributed.Client()\n",
    "client "
   ]
  },
  {
   "cell_type": "code",
   "execution_count": null,
   "metadata": {},
   "outputs": [],
   "source": [
    "\n",
    "\n",
    "zenodo_zipped_url = \"https://zenodo.org/records/8293998/files/code_and_data.zip\"\n",
    "\n",
    "# grab these from github repo\n",
    "access_key_id = \n",
    "secret_access_key = \n",
    "endpoint_url = 'https://nyu1.osn.mghpcc.org'\n",
    "write_fs = s3fs.S3FileSystem(\n",
    "    key=access_key_id,\n",
    "    secret=secret_access_key,\n",
    "    client_kwargs={'endpoint_url': endpoint_url}\n",
    ")\n",
    "\n",
    "\n",
    "read_fs = fsspec.filesystem(\"zip\", fo=zenodo_zipped_url)\n"
   ]
  },
  {
   "cell_type": "markdown",
   "metadata": {},
   "source": [
    "## Raw Training Data"
   ]
  },
  {
   "cell_type": "code",
   "execution_count": null,
   "metadata": {},
   "outputs": [],
   "source": [
    "training_data_raw_path = \"code_and_data/Data/training_data_raw_time_index_49_149.nc\"\n",
    "raw_training_mapper = write_fs.get_mapper('leap-pangeo-manual/GOTM/raw_training_data.zarr')\n",
    "\n",
    "raw_ds = xr.open_dataset(read_fs.open(training_data_raw_path), chunks={})\n",
    "raw_ds.chunk({'indexes':2500000,'sigma': 5}).to_zarr(raw_training_mapper)\n"
   ]
  },
  {
   "cell_type": "markdown",
   "metadata": {},
   "source": [
    "## Training Data SF"
   ]
  },
  {
   "cell_type": "code",
   "execution_count": null,
   "metadata": {},
   "outputs": [],
   "source": [
    "training_data_SF_path = \"code_and_data/Data/training_data_for_SF_hbl_gaps_filled.nc\"\n",
    "SF_training_mapper = write_fs.get_mapper('leap-pangeo-manual/GOTM/SF_training_data.zarr')\n",
    "\n",
    "sf_ds = xr.open_dataset(read_fs.open(training_data_SF_path), chunks={})\n",
    "sf_ds.chunk({'indexes':2500000,'sigma': 5}).to_zarr(SF_training_mapper)\n"
   ]
  }
 ],
 "metadata": {
  "kernelspec": {
   "display_name": "leap",
   "language": "python",
   "name": "python3"
  },
  "language_info": {
   "codemirror_mode": {
    "name": "ipython",
    "version": 3
   },
   "file_extension": ".py",
   "mimetype": "text/x-python",
   "name": "python",
   "nbconvert_exporter": "python",
   "pygments_lexer": "ipython3",
   "version": "3.12.7"
  }
 },
 "nbformat": 4,
 "nbformat_minor": 2
}
